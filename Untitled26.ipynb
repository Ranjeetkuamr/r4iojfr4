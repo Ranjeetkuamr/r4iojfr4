{
 "cells": [
  {
   "cell_type": "markdown",
   "id": "5c23ffa5",
   "metadata": {},
   "source": [
    "# Q1. Wht is n Exception in pthon? Write the differene between Exeptions and syntax error"
   ]
  },
  {
   "cell_type": "code",
   "execution_count": null,
   "id": "b86cc1a2",
   "metadata": {},
   "outputs": [],
   "source": [
    " '''In Python, an exception is an event that occurs during the execution of a program, which disrupts the normal flow of the program's instructions. When an exception occurs, \n",
    "the program stops executing the current code block and jumps to a special block of code called an exception handler\n",
    "\n",
    "Here are the key differences between exceptions and syntax errors:\n",
    "\n",
    "Occurrence: Exceptions occur during the execution of a program, while syntax errors are detected during the parsing phase before the code is executed.\n",
    "\n",
    "Handling: Exceptions can be handled using try-except blocks, allowing the program to recover from the error and continue running. Syntax errors, on the other hand, need to be fixed in the code before it can be executed.\n",
    "\n",
    "Impact: Exceptions disrupt the normal flow of the program but can be caught and handled. Syntax errors prevent the program from running altogether until they are fixed.'''"
   ]
  },
  {
   "cell_type": "markdown",
   "id": "a5ba3aed",
   "metadata": {},
   "source": [
    "# Q2 what happens when an exception is not handles is not handled ?Explain withan example"
   ]
  },
  {
   "cell_type": "code",
   "execution_count": null,
   "id": "21e41981",
   "metadata": {},
   "outputs": [],
   "source": [
    "f an exception is not handled, the program will crash. \n",
    "This means that the program will stop executing and the user will see an error message."
   ]
  },
  {
   "cell_type": "code",
   "execution_count": null,
   "id": "15762f0c",
   "metadata": {},
   "outputs": [],
   "source": [
    "def factorial(x):\n",
    "    if not isinstance(x, int):\n",
    "        raise ValueError(\"x must be an integer\")\n",
    "    \n",
    "    if x < 0:\n",
    "        raise ValueError(\"x must be non-negative\")\n",
    "    \n",
    "    result = 1\n",
    "    for i in range(1, x + 1):\n",
    "        result *= i\n",
    "    \n",
    "    return result\n",
    "\n",
    "try:\n",
    "    print(factorial(input(\"Enter a number: \")))\n",
    "except ValueError as e:\n",
    "    print(e)\n"
   ]
  },
  {
   "cell_type": "markdown",
   "id": "c349cf1b",
   "metadata": {},
   "source": [
    "# Q3. which  python statement are used to catch and handle exceptions ? Explain with an example"
   ]
  },
  {
   "cell_type": "code",
   "execution_count": null,
   "id": "6f722038",
   "metadata": {},
   "outputs": [],
   "source": [
    " the try-except statement is used to catch and handle exceptions.\n",
    "    It allows you to specify a block of code that may raise an exception, and provides a mechanism to handle the exception if it occurs.\n",
    "    The try block contains the code that might raise an exception, and the except block is where you handle the exception."
   ]
  },
  {
   "cell_type": "code",
   "execution_count": 1,
   "id": "dd7b01db",
   "metadata": {},
   "outputs": [
    {
     "name": "stdout",
     "output_type": "stream",
     "text": [
      "Error: Division by zero is not allowed.\n"
     ]
    }
   ],
   "source": [
    "def divide_numbers(a, b):\n",
    "    try:\n",
    "        result = a / b\n",
    "        print(\"Result:\", result)\n",
    "    except ZeroDivisionError:\n",
    "        print(\"Error: Division by zero is not allowed.\")\n",
    "\n",
    "divide_numbers(10, 0)\n"
   ]
  },
  {
   "cell_type": "markdown",
   "id": "f98a819b",
   "metadata": {},
   "source": [
    "# Q4. Q4. Explain with an example:\n",
    "a. try and else\n",
    "b. finmally\n",
    "c. raise"
   ]
  },
  {
   "cell_type": "code",
   "execution_count": null,
   "id": "17436981",
   "metadata": {},
   "outputs": [],
   "source": [
    "The else block in Python is used in conjunction with the try-except statement. It allows you to specify a block of code that should be executed if no exceptions are raised in the corresponding try block.\n",
    "The else block is optional and follows the except "
   ]
  },
  {
   "cell_type": "code",
   "execution_count": null,
   "id": "a70aa709",
   "metadata": {},
   "outputs": [],
   "source": [
    "def divide_numbers(a, b):\n",
    "    try:\n",
    "        result = a / b\n",
    "    except ZeroDivisionError:\n",
    "        print(\"Error: Division by zero is not allowed.\")\n",
    "    else:\n",
    "        print(\"Result:\", result)\n",
    "\n",
    "divide_numbers(10, 2)\n"
   ]
  },
  {
   "cell_type": "code",
   "execution_count": null,
   "id": "c57fce97",
   "metadata": {},
   "outputs": [],
   "source": [
    "The finally block is another optional block that can be used with the try-except statement.\n",
    "It allows you to specify a block of code that should always be executed, regardless of whether an exception is raised or not."
   ]
  },
  {
   "cell_type": "code",
   "execution_count": null,
   "id": "194a0bdf",
   "metadata": {},
   "outputs": [],
   "source": [
    "def divide_numbers(a, b):\n",
    "    try:\n",
    "        result = a / b\n",
    "        print(\"Result:\", result)\n",
    "    except ZeroDivisionError:\n",
    "        print(\"Error: Division by zero is not allowed.\")\n",
    "    finally:\n",
    "        print(\"Division operation complete.\")\n",
    "divide_numbers(10, 2)\n"
   ]
  },
  {
   "cell_type": "code",
   "execution_count": null,
   "id": "ba41ef6f",
   "metadata": {},
   "outputs": [],
   "source": [
    "The raise statement in Python is used to explicitly raise an exception.\n",
    "It allows you to create and raise custom exceptions or re-raise existing exceptions."
   ]
  },
  {
   "cell_type": "code",
   "execution_count": null,
   "id": "6bd29a8c",
   "metadata": {},
   "outputs": [],
   "source": [
    "def validate_age(age):\n",
    "    if age < 0:\n",
    "        raise ValueError(\"Age cannot be negative.\")\n",
    "    elif age < 18:\n",
    "        raise ValueError(\"You must be at least 18\")\n"
   ]
  },
  {
   "cell_type": "markdown",
   "id": "e48f71c5",
   "metadata": {},
   "source": [
    "# Q5. what are custom exceptions in python ? why do we need custom exception ? explain with an example"
   ]
  },
  {
   "cell_type": "code",
   "execution_count": null,
   "id": "750a4169",
   "metadata": {},
   "outputs": [],
   "source": [
    "Custom exceptions are exceptions that are created by the programmer.\n",
    "They are used to provide more specific information about the error that occurred."
   ]
  },
  {
   "cell_type": "code",
   "execution_count": null,
   "id": "cab2986a",
   "metadata": {},
   "outputs": [],
   "source": [
    "class MyException(Exception):\n",
    "    \"\"\"A custom exception.\"\"\"\n",
    "\n",
    "    def __init__(self, message):\n",
    "        super().__init__(message)\n",
    "\n",
    "        self.message = message\n",
    "\n",
    "\n",
    "def factorial(x):\n",
    "    if not isinstance(x, int):\n",
    "        raise MyException(\"x must be an integer\")\n",
    "\n",
    "    if x < 0:\n",
    "        raise MyException(\"x must be non-negative\")\n",
    "\n",
    "    result = 1\n",
    "    for i in range(1, x + 1):\n",
    "        result *= i\n",
    "\n",
    "    return result\n",
    "\n",
    "\n",
    "try:\n",
    "    print(factorial(input(\"Enter a number: \")))\n",
    "except MyException as e:\n",
    "    print(\"Error: {}.\".format(e.message))\n"
   ]
  },
  {
   "cell_type": "markdown",
   "id": "220f2d79",
   "metadata": {},
   "source": [
    "# Q6. create a custom exception class use this class to handle an exception"
   ]
  },
  {
   "cell_type": "code",
   "execution_count": null,
   "id": "36e8f689",
   "metadata": {},
   "outputs": [],
   "source": [
    "class InvalidEmailError(Exception):\n",
    "    def __init__(self, email):\n",
    "        self.email = email\n",
    "        self.message = f\"Invalid email address: {email}\"\n",
    "\n",
    "def validate_email(email):\n",
    "    if \"@\" not in email:\n",
    "        raise InvalidEmailError(email)\n",
    "\n",
    "email = \"example.com\"\n",
    "try:\n",
    "    validate_email(email)\n",
    "except InvalidEmailError as e:\n",
    "    print(e.message)\n"
   ]
  },
  {
   "cell_type": "code",
   "execution_count": null,
   "id": "f5617e5d",
   "metadata": {},
   "outputs": [],
   "source": []
  }
 ],
 "metadata": {
  "kernelspec": {
   "display_name": "Python 3 (ipykernel)",
   "language": "python",
   "name": "python3"
  },
  "language_info": {
   "codemirror_mode": {
    "name": "ipython",
    "version": 3
   },
   "file_extension": ".py",
   "mimetype": "text/x-python",
   "name": "python",
   "nbconvert_exporter": "python",
   "pygments_lexer": "ipython3",
   "version": "3.10.9"
  }
 },
 "nbformat": 4,
 "nbformat_minor": 5
}
